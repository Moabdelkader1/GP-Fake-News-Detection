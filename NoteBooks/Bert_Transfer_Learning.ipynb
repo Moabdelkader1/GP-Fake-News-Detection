{
  "cells": [
    {
      "cell_type": "markdown",
      "metadata": {
        "id": "KoTaqPgMDb3Z"
      },
      "source": [
        "# Initializing Environment"
      ]
    },
    {
      "cell_type": "code",
      "execution_count": null,
      "metadata": {
        "colab": {
          "base_uri": "https://localhost:8080/"
        },
        "id": "xKaZ7iIXDJjC",
        "outputId": "50c48c0e-253e-4565-f3f5-3d6532c4be0b"
      },
      "outputs": [
        {
          "output_type": "stream",
          "name": "stdout",
          "text": [
            "Drive already mounted at /content/drive; to attempt to forcibly remount, call drive.mount(\"/content/drive\", force_remount=True).\n",
            "Looking in indexes: https://pypi.org/simple, https://us-python.pkg.dev/colab-wheels/public/simple/\n",
            "Requirement already satisfied: arabert in /usr/local/lib/python3.9/dist-packages (1.0.1)\n",
            "Requirement already satisfied: emoji==1.4.2 in /usr/local/lib/python3.9/dist-packages (from arabert) (1.4.2)\n",
            "Requirement already satisfied: farasapy in /usr/local/lib/python3.9/dist-packages (from arabert) (0.0.14)\n",
            "Requirement already satisfied: PyArabic in /usr/local/lib/python3.9/dist-packages (from arabert) (0.6.15)\n",
            "Requirement already satisfied: tqdm in /usr/local/lib/python3.9/dist-packages (from farasapy->arabert) (4.65.0)\n",
            "Requirement already satisfied: requests in /usr/local/lib/python3.9/dist-packages (from farasapy->arabert) (2.27.1)\n",
            "Requirement already satisfied: six>=1.14.0 in /usr/local/lib/python3.9/dist-packages (from PyArabic->arabert) (1.16.0)\n",
            "Requirement already satisfied: certifi>=2017.4.17 in /usr/local/lib/python3.9/dist-packages (from requests->farasapy->arabert) (2022.12.7)\n",
            "Requirement already satisfied: urllib3<1.27,>=1.21.1 in /usr/local/lib/python3.9/dist-packages (from requests->farasapy->arabert) (1.26.15)\n",
            "Requirement already satisfied: charset-normalizer~=2.0.0 in /usr/local/lib/python3.9/dist-packages (from requests->farasapy->arabert) (2.0.12)\n",
            "Requirement already satisfied: idna<4,>=2.5 in /usr/local/lib/python3.9/dist-packages (from requests->farasapy->arabert) (3.4)\n",
            "Looking in indexes: https://pypi.org/simple, https://us-python.pkg.dev/colab-wheels/public/simple/\n",
            "Requirement already satisfied: transformers in /usr/local/lib/python3.9/dist-packages (4.28.1)\n",
            "Requirement already satisfied: pyyaml>=5.1 in /usr/local/lib/python3.9/dist-packages (from transformers) (6.0)\n",
            "Requirement already satisfied: huggingface-hub<1.0,>=0.11.0 in /usr/local/lib/python3.9/dist-packages (from transformers) (0.14.1)\n",
            "Requirement already satisfied: tqdm>=4.27 in /usr/local/lib/python3.9/dist-packages (from transformers) (4.65.0)\n",
            "Requirement already satisfied: tokenizers!=0.11.3,<0.14,>=0.11.1 in /usr/local/lib/python3.9/dist-packages (from transformers) (0.13.3)\n",
            "Requirement already satisfied: packaging>=20.0 in /usr/local/lib/python3.9/dist-packages (from transformers) (23.1)\n",
            "Requirement already satisfied: requests in /usr/local/lib/python3.9/dist-packages (from transformers) (2.27.1)\n",
            "Requirement already satisfied: regex!=2019.12.17 in /usr/local/lib/python3.9/dist-packages (from transformers) (2022.10.31)\n",
            "Requirement already satisfied: numpy>=1.17 in /usr/local/lib/python3.9/dist-packages (from transformers) (1.22.4)\n",
            "Requirement already satisfied: filelock in /usr/local/lib/python3.9/dist-packages (from transformers) (3.11.0)\n",
            "Requirement already satisfied: typing-extensions>=3.7.4.3 in /usr/local/lib/python3.9/dist-packages (from huggingface-hub<1.0,>=0.11.0->transformers) (4.5.0)\n",
            "Requirement already satisfied: fsspec in /usr/local/lib/python3.9/dist-packages (from huggingface-hub<1.0,>=0.11.0->transformers) (2023.4.0)\n",
            "Requirement already satisfied: idna<4,>=2.5 in /usr/local/lib/python3.9/dist-packages (from requests->transformers) (3.4)\n",
            "Requirement already satisfied: urllib3<1.27,>=1.21.1 in /usr/local/lib/python3.9/dist-packages (from requests->transformers) (1.26.15)\n",
            "Requirement already satisfied: charset-normalizer~=2.0.0 in /usr/local/lib/python3.9/dist-packages (from requests->transformers) (2.0.12)\n",
            "Requirement already satisfied: certifi>=2017.4.17 in /usr/local/lib/python3.9/dist-packages (from requests->transformers) (2022.12.7)\n"
          ]
        }
      ],
      "source": [
        "from google.colab import drive\n",
        "drive.mount('/content/drive')\n",
        "!pip install arabert\n",
        "!pip install transformers"
      ]
    },
    {
      "cell_type": "code",
      "execution_count": null,
      "metadata": {
        "id": "jGrwGh6hDsot"
      },
      "outputs": [],
      "source": [
        "import pandas as pd\n",
        "from arabert.preprocess import ArabertPreprocessor\n",
        "from transformers import AutoTokenizer,AutoModel\n",
        "import torch\n",
        "import torch.nn as nn\n",
        "from tqdm import tqdm\n",
        "import numpy as np\n",
        "from keras.models import Sequential\n",
        "from keras.layers import Embedding,LSTM,Dense,SpatialDropout1D,Dropout,Conv1D,MaxPooling1D,Reshape\n",
        "from keras.callbacks import ModelCheckpoint\n",
        "from sklearn.model_selection import train_test_split\n",
        "import matplotlib.pyplot as plt\n",
        "import tensorflow as tf"
      ]
    },
    {
      "cell_type": "code",
      "execution_count": null,
      "metadata": {
        "colab": {
          "base_uri": "https://localhost:8080/"
        },
        "id": "G72eEY-oDyCq",
        "outputId": "a6b64d2d-bdb3-459d-96f9-ee3da9aff2ce"
      },
      "outputs": [
        {
          "output_type": "stream",
          "name": "stdout",
          "text": [
            "/content/drive/MyDrive/Gp Dataset\n"
          ]
        }
      ],
      "source": [
        "%cd /content/drive/MyDrive/Gp\\ Dataset"
      ]
    },
    {
      "cell_type": "markdown",
      "metadata": {
        "id": "caAoEQUbD6Gh"
      },
      "source": [
        "# Load Data"
      ]
    },
    {
      "cell_type": "code",
      "execution_count": null,
      "metadata": {
        "id": "o6xtrRYzD9Xh"
      },
      "outputs": [],
      "source": [
        "labeledData=pd.read_csv('labeled_data.csv')"
      ]
    },
    {
      "cell_type": "code",
      "execution_count": null,
      "metadata": {
        "id": "-d5XBY40lExc"
      },
      "outputs": [],
      "source": [
        "labeledData = labeledData.sample(frac=1, random_state=np.random.RandomState(seed=56))"
      ]
    },
    {
      "cell_type": "code",
      "execution_count": null,
      "metadata": {
        "id": "ludPWUy9Eag6"
      },
      "outputs": [],
      "source": [
        "\n",
        "labeledData['label']=labeledData['label'].replace(['not credible','credible'],[0,1])\n",
        "real = labeledData[labeledData['label']==1]\n",
        "fake = labeledData[labeledData['label']==0]\n",
        "real = real.sample(n=len(fake), random_state=101)\n",
        "labeledData = pd.concat([real,fake],axis=0)\n"
      ]
    },
    {
      "cell_type": "code",
      "source": [
        "labeledData = labeledData.sample(frac=0.25, random_state=np.random.RandomState(seed=42))\n",
        "labeledData = labeledData.reset_index(drop=True)"
      ],
      "metadata": {
        "id": "oNDkf9EEVfZS"
      },
      "execution_count": null,
      "outputs": []
    },
    {
      "cell_type": "code",
      "execution_count": null,
      "metadata": {
        "colab": {
          "base_uri": "https://localhost:8080/",
          "height": 354
        },
        "id": "DZFkh6UpEGxK",
        "outputId": "371f0683-d1cd-41d5-9b1c-0b539e839301"
      },
      "outputs": [
        {
          "output_type": "stream",
          "name": "stdout",
          "text": [
            "(83616, 5)\n"
          ]
        },
        {
          "output_type": "execute_result",
          "data": {
            "text/plain": [
              "                                               title  \\\n",
              "0  الإمارات وأوزبكستان توقعان على برنامج تعاون اق...   \n",
              "1      84 وفاة جديدة بفيروس كورونا و2123 اصابة جديدة   \n",
              "2  في ظرف وجيز.. عناصر أمن الدائرة الأولى توقف ال...   \n",
              "3  بالأسماء.. إصابة 5 أشخاص بينهم طفلين إثر انقلا...   \n",
              "4  مجلس الوزراء: مصر تحتل المركز الأول إقليمياً و...   \n",
              "\n",
              "                                                text  \\\n",
              "0  أنا معجب بالشروق بالفعل، لا تظهر هذه الرسالة م...   \n",
              "1  أعلنت وزارة الصحة تسجيل 84 وفاة جديدة بفيروس ك...   \n",
              "2  ناظورسيتي: محمد محمود\\n\\nفي وقت وجيز، وتحت إشر...   \n",
              "3  كتب : قنا: سمر مكي\\n\\nأصيب اثنان، اليوم الخميس...   \n",
              "4  احتلت مصر المركز الأول إقليمياً وقارياً والـ 1...   \n",
              "\n",
              "             publishing_date source_num  label  \n",
              "0        2021-04-07T17:33:54  source_86      1  \n",
              "1  2021-04-14T21:27:04+02:00  source_75      1  \n",
              "2        2021-05-19T00:00:00  source_50      0  \n",
              "3        2021-05-06T19:52:48  source_23      1  \n",
              "4        2021-05-28T10:11:20  source_86      1  "
            ],
            "text/html": [
              "\n",
              "  <div id=\"df-2f812294-114b-4b0c-bc27-8fd773bb9cfe\">\n",
              "    <div class=\"colab-df-container\">\n",
              "      <div>\n",
              "<style scoped>\n",
              "    .dataframe tbody tr th:only-of-type {\n",
              "        vertical-align: middle;\n",
              "    }\n",
              "\n",
              "    .dataframe tbody tr th {\n",
              "        vertical-align: top;\n",
              "    }\n",
              "\n",
              "    .dataframe thead th {\n",
              "        text-align: right;\n",
              "    }\n",
              "</style>\n",
              "<table border=\"1\" class=\"dataframe\">\n",
              "  <thead>\n",
              "    <tr style=\"text-align: right;\">\n",
              "      <th></th>\n",
              "      <th>title</th>\n",
              "      <th>text</th>\n",
              "      <th>publishing_date</th>\n",
              "      <th>source_num</th>\n",
              "      <th>label</th>\n",
              "    </tr>\n",
              "  </thead>\n",
              "  <tbody>\n",
              "    <tr>\n",
              "      <th>0</th>\n",
              "      <td>الإمارات وأوزبكستان توقعان على برنامج تعاون اق...</td>\n",
              "      <td>أنا معجب بالشروق بالفعل، لا تظهر هذه الرسالة م...</td>\n",
              "      <td>2021-04-07T17:33:54</td>\n",
              "      <td>source_86</td>\n",
              "      <td>1</td>\n",
              "    </tr>\n",
              "    <tr>\n",
              "      <th>1</th>\n",
              "      <td>84 وفاة جديدة بفيروس كورونا و2123 اصابة جديدة</td>\n",
              "      <td>أعلنت وزارة الصحة تسجيل 84 وفاة جديدة بفيروس ك...</td>\n",
              "      <td>2021-04-14T21:27:04+02:00</td>\n",
              "      <td>source_75</td>\n",
              "      <td>1</td>\n",
              "    </tr>\n",
              "    <tr>\n",
              "      <th>2</th>\n",
              "      <td>في ظرف وجيز.. عناصر أمن الدائرة الأولى توقف ال...</td>\n",
              "      <td>ناظورسيتي: محمد محمود\\n\\nفي وقت وجيز، وتحت إشر...</td>\n",
              "      <td>2021-05-19T00:00:00</td>\n",
              "      <td>source_50</td>\n",
              "      <td>0</td>\n",
              "    </tr>\n",
              "    <tr>\n",
              "      <th>3</th>\n",
              "      <td>بالأسماء.. إصابة 5 أشخاص بينهم طفلين إثر انقلا...</td>\n",
              "      <td>كتب : قنا: سمر مكي\\n\\nأصيب اثنان، اليوم الخميس...</td>\n",
              "      <td>2021-05-06T19:52:48</td>\n",
              "      <td>source_23</td>\n",
              "      <td>1</td>\n",
              "    </tr>\n",
              "    <tr>\n",
              "      <th>4</th>\n",
              "      <td>مجلس الوزراء: مصر تحتل المركز الأول إقليمياً و...</td>\n",
              "      <td>احتلت مصر المركز الأول إقليمياً وقارياً والـ 1...</td>\n",
              "      <td>2021-05-28T10:11:20</td>\n",
              "      <td>source_86</td>\n",
              "      <td>1</td>\n",
              "    </tr>\n",
              "  </tbody>\n",
              "</table>\n",
              "</div>\n",
              "      <button class=\"colab-df-convert\" onclick=\"convertToInteractive('df-2f812294-114b-4b0c-bc27-8fd773bb9cfe')\"\n",
              "              title=\"Convert this dataframe to an interactive table.\"\n",
              "              style=\"display:none;\">\n",
              "        \n",
              "  <svg xmlns=\"http://www.w3.org/2000/svg\" height=\"24px\"viewBox=\"0 0 24 24\"\n",
              "       width=\"24px\">\n",
              "    <path d=\"M0 0h24v24H0V0z\" fill=\"none\"/>\n",
              "    <path d=\"M18.56 5.44l.94 2.06.94-2.06 2.06-.94-2.06-.94-.94-2.06-.94 2.06-2.06.94zm-11 1L8.5 8.5l.94-2.06 2.06-.94-2.06-.94L8.5 2.5l-.94 2.06-2.06.94zm10 10l.94 2.06.94-2.06 2.06-.94-2.06-.94-.94-2.06-.94 2.06-2.06.94z\"/><path d=\"M17.41 7.96l-1.37-1.37c-.4-.4-.92-.59-1.43-.59-.52 0-1.04.2-1.43.59L10.3 9.45l-7.72 7.72c-.78.78-.78 2.05 0 2.83L4 21.41c.39.39.9.59 1.41.59.51 0 1.02-.2 1.41-.59l7.78-7.78 2.81-2.81c.8-.78.8-2.07 0-2.86zM5.41 20L4 18.59l7.72-7.72 1.47 1.35L5.41 20z\"/>\n",
              "  </svg>\n",
              "      </button>\n",
              "      \n",
              "  <style>\n",
              "    .colab-df-container {\n",
              "      display:flex;\n",
              "      flex-wrap:wrap;\n",
              "      gap: 12px;\n",
              "    }\n",
              "\n",
              "    .colab-df-convert {\n",
              "      background-color: #E8F0FE;\n",
              "      border: none;\n",
              "      border-radius: 50%;\n",
              "      cursor: pointer;\n",
              "      display: none;\n",
              "      fill: #1967D2;\n",
              "      height: 32px;\n",
              "      padding: 0 0 0 0;\n",
              "      width: 32px;\n",
              "    }\n",
              "\n",
              "    .colab-df-convert:hover {\n",
              "      background-color: #E2EBFA;\n",
              "      box-shadow: 0px 1px 2px rgba(60, 64, 67, 0.3), 0px 1px 3px 1px rgba(60, 64, 67, 0.15);\n",
              "      fill: #174EA6;\n",
              "    }\n",
              "\n",
              "    [theme=dark] .colab-df-convert {\n",
              "      background-color: #3B4455;\n",
              "      fill: #D2E3FC;\n",
              "    }\n",
              "\n",
              "    [theme=dark] .colab-df-convert:hover {\n",
              "      background-color: #434B5C;\n",
              "      box-shadow: 0px 1px 3px 1px rgba(0, 0, 0, 0.15);\n",
              "      filter: drop-shadow(0px 1px 2px rgba(0, 0, 0, 0.3));\n",
              "      fill: #FFFFFF;\n",
              "    }\n",
              "  </style>\n",
              "\n",
              "      <script>\n",
              "        const buttonEl =\n",
              "          document.querySelector('#df-2f812294-114b-4b0c-bc27-8fd773bb9cfe button.colab-df-convert');\n",
              "        buttonEl.style.display =\n",
              "          google.colab.kernel.accessAllowed ? 'block' : 'none';\n",
              "\n",
              "        async function convertToInteractive(key) {\n",
              "          const element = document.querySelector('#df-2f812294-114b-4b0c-bc27-8fd773bb9cfe');\n",
              "          const dataTable =\n",
              "            await google.colab.kernel.invokeFunction('convertToInteractive',\n",
              "                                                     [key], {});\n",
              "          if (!dataTable) return;\n",
              "\n",
              "          const docLinkHtml = 'Like what you see? Visit the ' +\n",
              "            '<a target=\"_blank\" href=https://colab.research.google.com/notebooks/data_table.ipynb>data table notebook</a>'\n",
              "            + ' to learn more about interactive tables.';\n",
              "          element.innerHTML = '';\n",
              "          dataTable['output_type'] = 'display_data';\n",
              "          await google.colab.output.renderOutput(dataTable, element);\n",
              "          const docLink = document.createElement('div');\n",
              "          docLink.innerHTML = docLinkHtml;\n",
              "          element.appendChild(docLink);\n",
              "        }\n",
              "      </script>\n",
              "    </div>\n",
              "  </div>\n",
              "  "
            ]
          },
          "metadata": {},
          "execution_count": 34
        }
      ],
      "source": [
        "print(labeledData.shape)\n",
        "labeledData.head()"
      ]
    },
    {
      "cell_type": "code",
      "execution_count": null,
      "metadata": {
        "colab": {
          "base_uri": "https://localhost:8080/",
          "height": 428
        },
        "id": "0hp2JsGNEjba",
        "outputId": "79ddc225-ba24-4dc7-9917-30d8a61833e6"
      },
      "outputs": [
        {
          "output_type": "display_data",
          "data": {
            "text/plain": [
              "<Figure size 640x480 with 1 Axes>"
            ],
            "image/png": "[encoded data removed]"
          },
          "metadata": {}
        }
      ],
      "source": [
        "data_value_counts=labeledData['label'].value_counts()\n",
        "plt.pie(data_value_counts,labels=data_value_counts.index,autopct='%1.1f%%')\n",
        "plt.title('Pie Chart of Data 0s and 1s')\n",
        "plt.show()"
      ]
    },
    {
      "cell_type": "code",
      "execution_count": null,
      "metadata": {
        "id": "eof5hGZbFHos"
      },
      "outputs": [],
      "source": [
        "# #preprocessed=[arabert_prep.preprocess(txtt) for txtt in train_text]\n",
        "# train_text,temp_text,train_labels,temp_labels=train_test_split(labeledData['title'],labeledData['label'],random_state=50,test_size=0.2)\n",
        "# val_text,test_text,val_labels,test_labels=train_test_split(temp_text,temp_labels,random_state=50,test_size=0.5)"
      ]
    },
    {
      "cell_type": "code",
      "source": [
        "model_name = \"aubmindlab/bert-base-arabertv2\"\n",
        "arabert_prep = ArabertPreprocessor(model_name=model_name)\n",
        "preprocessed=[arabert_prep.preprocess(txtt) for txtt in labeledData['title']]\n",
        "train_text,temp_text,train_labels,temp_labels=train_test_split(preprocessed,labeledData['label'],random_state=50,test_size=0.2)\n",
        "val_text,test_text,val_labels,test_labels=train_test_split(temp_text,temp_labels,random_state=50,test_size=0.1)"
      ],
      "metadata": {
        "colab": {
          "base_uri": "https://localhost:8080/"
        },
        "id": "Q8mHUFKd4K9-",
        "outputId": "f04c6314-f334-4f75-d3d2-c1c4e461e9a9"
      },
      "execution_count": null,
      "outputs": [
        {
          "output_type": "stream",
          "name": "stderr",
          "text": [
            "[2023-04-26 16:14:04,548 - farasapy_logger - WARNING]: Be careful with large lines as they may break on interactive mode. You may switch to Standalone mode for such cases.\n"
          ]
        }
      ]
    },
    {
      "cell_type": "markdown",
      "metadata": {
        "id": "-y8iBkQRFudS"
      },
      "source": [
        "# Bert"
      ]
    },
    {
      "cell_type": "code",
      "execution_count": null,
      "metadata": {
        "colab": {
          "base_uri": "https://localhost:8080/"
        },
        "id": "ilXiNwq0FxaD",
        "outputId": "6776dc02-91cc-4251-9886-da95ea9d1a79"
      },
      "outputs": [
        {
          "output_type": "stream",
          "name": "stderr",
          "text": [
            "Some weights of the model checkpoint at aubmindlab/bert-base-arabertv2 were not used when initializing BertModel: ['cls.predictions.transform.dense.weight', 'cls.seq_relationship.weight', 'cls.seq_relationship.bias', 'cls.predictions.transform.LayerNorm.bias', 'cls.predictions.transform.dense.bias', 'cls.predictions.bias', 'cls.predictions.decoder.bias', 'cls.predictions.decoder.weight', 'cls.predictions.transform.LayerNorm.weight']\n",
            "- This IS expected if you are initializing BertModel from the checkpoint of a model trained on another task or with another architecture (e.g. initializing a BertForSequenceClassification model from a BertForPreTraining model).\n",
            "- This IS NOT expected if you are initializing BertModel from the checkpoint of a model that you expect to be exactly identical (initializing a BertForSequenceClassification model from a BertForSequenceClassification model).\n"
          ]
        }
      ],
      "source": [
        "model_name = \"aubmindlab/bert-base-arabertv2\"\n",
        "arabert_tokenizer=AutoTokenizer.from_pretrained(model_name)\n",
        "arabert_model = AutoModel.from_pretrained(model_name)"
      ]
    },
    {
      "cell_type": "code",
      "execution_count": null,
      "metadata": {
        "colab": {
          "base_uri": "https://localhost:8080/"
        },
        "id": "F9pWYigWJWt0",
        "outputId": "ba1e271f-a18d-4210-ed73-8f49b3d8771d"
      },
      "outputs": [
        {
          "output_type": "execute_result",
          "data": {
            "text/plain": [
              "Text(0, 0.5, 'Number Of Texts')"
            ]
          },
          "metadata": {},
          "execution_count": 38
        },
        {
          "output_type": "display_data",
          "data": {
            "text/plain": [
              "<Figure size 640x480 with 1 Axes>"
            ],
            "image/png": "[encoded data removed]"
          },
          "metadata": {}
        }
      ],
      "source": [
        "lengths=[len(title.split()) for title in train_text]\n",
        "pd.Series(lengths).hist(bins=40)\n",
        "plt.xlabel('Number Of Words')\n",
        "plt.ylabel('Number Of Texts')"
      ]
    },
    {
      "cell_type": "code",
      "execution_count": null,
      "metadata": {
        "colab": {
          "base_uri": "https://localhost:8080/"
        },
        "id": "eo2aL8ojJzEk",
        "outputId": "b29ce6ad-d243-46e9-e5b5-097244e0e2b9"
      },
      "outputs": [
        {
          "output_type": "execute_result",
          "data": {
            "text/plain": [
              "{'input_ids': [[33, 9950, 195, 4350, 4372, 199, 34, 31, 31], [33, 1412, 4454, 3305, 2929, 55278, 27099, 51659, 34]], 'token_type_ids': [[0, 0, 0, 0, 0, 0, 0, 0, 0], [0, 0, 0, 0, 0, 0, 0, 0, 0]], 'attention_mask': [[1, 1, 1, 1, 1, 1, 1, 0, 0], [1, 1, 1, 1, 1, 1, 1, 1, 1]]}"
            ]
          },
          "metadata": {},
          "execution_count": 39
        }
      ],
      "source": [
        "sample_texts = [\"مرحبا بالعالم\",\"أنا أحب تعلم اللغات الجديدة\"]\n",
        "#preprocessed=txt=[arabert_prep.preprocess(txtt) for txtt in sample_texts]\n",
        "tokenized_sample=arabert_tokenizer.batch_encode_plus(sample_texts,padding=True)\n",
        "tokenized_sample"
      ]
    },
    {
      "cell_type": "code",
      "execution_count": null,
      "metadata": {
        "id": "mEMLjgmZK6LW"
      },
      "outputs": [],
      "source": [
        "max_len=24\n",
        "tokens_train=arabert_tokenizer.batch_encode_plus(\n",
        "    train_text,\n",
        "    max_length=max_len,\n",
        "    padding=\"max_length\",\n",
        "    truncation=True\n",
        "    )\n",
        "tokens_val=arabert_tokenizer.batch_encode_plus(\n",
        "    val_text,\n",
        "    max_length=max_len,\n",
        "    padding=\"max_length\",\n",
        "    truncation=True\n",
        "    )\n",
        "tokens_test=arabert_tokenizer.batch_encode_plus(\n",
        "    test_text,\n",
        "    max_length=max_len,\n",
        "    padding=\"max_length\",\n",
        "    truncation=True\n",
        "    )"
      ]
    },
    {
      "cell_type": "code",
      "execution_count": null,
      "metadata": {
        "id": "TNuSvzAVLs2t"
      },
      "outputs": [],
      "source": [
        "train_input_ids=torch.tensor(tokens_train['input_ids'])\n",
        "train_attention_masks=torch.tensor(tokens_train['attention_mask'])\n",
        "train_y=torch.tensor(train_labels.tolist())\n",
        "\n",
        "test_input_ids=torch.tensor(tokens_test['input_ids'])\n",
        "test_attention_masks=torch.tensor(tokens_test['attention_mask'])\n",
        "test_y=torch.tensor(test_labels.tolist())\n",
        "\n",
        "val_input_ids=torch.tensor(tokens_val['input_ids'])\n",
        "val_attention_masks=torch.tensor(tokens_val['attention_mask'])\n",
        "val_y=torch.tensor(val_labels.tolist())"
      ]
    },
    {
      "cell_type": "code",
      "execution_count": null,
      "metadata": {
        "colab": {
          "base_uri": "https://localhost:8080/"
        },
        "id": "zuqIPf9gON94",
        "outputId": "6af8ce2f-140d-414b-c311-5e640fe01a34"
      },
      "outputs": [
        {
          "output_type": "execute_result",
          "data": {
            "text/plain": [
              "torch.Tensor"
            ]
          },
          "metadata": {},
          "execution_count": 42
        }
      ],
      "source": [
        "type(train_input_ids)"
      ]
    },
    {
      "cell_type": "code",
      "execution_count": null,
      "metadata": {
        "id": "ywFnWi9FM7TE"
      },
      "outputs": [],
      "source": [
        "# Data Loader structure definition\n",
        "from torch.utils.data import TensorDataset, DataLoader, RandomSampler, SequentialSampler\n",
        "batch_size = 32                                               #define a batch size\n",
        "\n",
        "train_data = TensorDataset(train_input_ids, train_attention_masks, train_y)    # wrap tensors\n",
        "train_sampler = RandomSampler(train_data)                     # sampler for sampling the data during training\n",
        "train_dataloader = DataLoader(train_data, sampler=train_sampler, batch_size=batch_size)\n",
        "                                                              # dataLoader for train set\n",
        "val_data = TensorDataset(val_input_ids, val_attention_masks, val_y)            # wrap tensors\n",
        "val_sampler = SequentialSampler(val_data)                     # sampler for sampling the data during training\n",
        "val_dataloader = DataLoader(val_data, sampler = val_sampler, batch_size=batch_size)\n",
        "                                                              # dataLoader for validation set"
      ]
    },
    {
      "cell_type": "markdown",
      "metadata": {
        "id": "3XeWyfTuOW_U"
      },
      "source": [
        "# Freeze Bert Layers"
      ]
    },
    {
      "cell_type": "code",
      "execution_count": null,
      "metadata": {
        "id": "RNDCLCs7OgNs"
      },
      "outputs": [],
      "source": [
        "for param in arabert_model.parameters():\n",
        "    param.requires_grad = False  "
      ]
    },
    {
      "cell_type": "markdown",
      "metadata": {
        "id": "aZ-bEy0VOr6T"
      },
      "source": [
        "# Architecture"
      ]
    },
    {
      "cell_type": "code",
      "execution_count": null,
      "metadata": {
        "colab": {
          "base_uri": "https://localhost:8080/"
        },
        "id": "l8Y0d7hzOvHE",
        "outputId": "f6733118-5b84-4d50-b039-710c4987a3b6"
      },
      "outputs": [
        {
          "output_type": "stream",
          "name": "stderr",
          "text": [
            "/usr/local/lib/python3.9/dist-packages/transformers/optimization.py:391: FutureWarning: This implementation of AdamW is deprecated and will be removed in a future version. Use the PyTorch implementation torch.optim.AdamW instead, or set `no_deprecation_warning=True` to disable this warning\n",
            "  warnings.warn(\n"
          ]
        }
      ],
      "source": [
        "class BERT_Arch(nn.Module):\n",
        "    def __init__(self, bert):  \n",
        "      super(BERT_Arch, self).__init__()\n",
        "      self.bert = bert   \n",
        "      self.dropout = nn.Dropout(0.1)            # dropout layer\n",
        "      self.relu =  nn.ReLU()                    # relu activation function\n",
        "      self.fc1 = nn.Linear(768,512)             # dense layer 1\n",
        "      self.fc2 = nn.Linear(512,2)               # dense layer 2 (Output layer)\n",
        "      self.softmax = nn.LogSoftmax(dim=1)       # softmax activation function\n",
        "    def forward(self, sent_id, mask):           # define the forward pass  \n",
        "      cls_hs = self.bert(sent_id, attention_mask=mask)['pooler_output']\n",
        "                                                # pass the inputs to the model\n",
        "      x = self.fc1(cls_hs)\n",
        "      x = self.relu(x)\n",
        "      x = self.dropout(x)\n",
        "      x = self.fc2(x)                           # output layer\n",
        "      x = self.softmax(x)                       # apply softmax activation\n",
        "      return x\n",
        "\n",
        "model = BERT_Arch(arabert_model)\n",
        "# Defining the hyperparameters (optimizer, weights of the classes and the epochs)\n",
        "# Define the optimizer\n",
        "from transformers import AdamW\n",
        "optimizer = AdamW(model.parameters(),\n",
        "                  lr = 1e-5)          # learning rate\n",
        "# Define the loss function\n",
        "cross_entropy  = nn.NLLLoss() \n",
        "# Number of training epochs\n",
        "epochs = 2"
      ]
    },
    {
      "cell_type": "markdown",
      "metadata": {
        "id": "BlnvFhwSPVWt"
      },
      "source": [
        "# Model Functions"
      ]
    },
    {
      "cell_type": "code",
      "execution_count": null,
      "metadata": {
        "id": "1ePAR-bgPZ1D"
      },
      "outputs": [],
      "source": [
        "# Defining training and evaluation functions\n",
        "def train():  \n",
        "  model.train()\n",
        "  total_loss, total_accuracy = 0, 0\n",
        "  \n",
        "  for step,batch in enumerate(train_dataloader):                # iterate over batches\n",
        "    if step % 50 == 0 and not step == 0:                        # progress update after every 50 batches.\n",
        "      print('  Batch {:>5,}  of  {:>5,}.'.format(step, len(train_dataloader)))\n",
        "    batch = [r for r in batch]                                  # push the batch to gpu\n",
        "    sent_id, mask, labels = batch \n",
        "    model.zero_grad()                                           # clear previously calculated gradients\n",
        "    preds = model(sent_id, mask)                                # get model predictions for current batch\n",
        "    loss = cross_entropy(preds, labels)                         # compute loss between actual & predicted values\n",
        "    total_loss = total_loss + loss.item()                       # add on to the total loss\n",
        "    loss.backward()                                             # backward pass to calculate the gradients\n",
        "    torch.nn.utils.clip_grad_norm_(model.parameters(), 1.0)     # clip gradients to 1.0. It helps in preventing exploding gradient problem\n",
        "    optimizer.step()                                            # update parameters\n",
        "    preds=preds.detach().cpu().numpy()                          # model predictions are stored on GPU. So, push it to CPU\n",
        "\n",
        "  avg_loss = total_loss / len(train_dataloader)                 # compute training loss of the epoch  \n",
        "                                                                # reshape predictions in form of (# samples, # classes)\n",
        "  return avg_loss                                 # returns the loss and predictions\n",
        "\n",
        "def evaluate():  \n",
        "  print(\"\\nEvaluating...\")  \n",
        "  model.eval()                                    # Deactivate dropout layers\n",
        "  total_loss, total_accuracy = 0, 0  \n",
        "  for step,batch in enumerate(val_dataloader):    # Iterate over batches  \n",
        "    if step % 50 == 0 and not step == 0:          # Progress update every 50 batches.     \n",
        "                                                  # Calculate elapsed time in minutes.\n",
        "                                                  # Elapsed = format_time(time.time() - t0)\n",
        "      print('  Batch {:>5,}  of  {:>5,}.'.format(step, len(val_dataloader)))\n",
        "                                                  # Report progress\n",
        "    batch = [t for t in batch]                    # Push the batch to GPU\n",
        "    sent_id, mask, labels = batch\n",
        "    with torch.no_grad():                         # Deactivate autograd\n",
        "      preds = model(sent_id, mask)                # Model predictions\n",
        "      loss = cross_entropy(preds,labels)          # Compute the validation loss between actual and predicted values\n",
        "      total_loss = total_loss + loss.item()\n",
        "      preds = preds.detach().cpu().numpy()\n",
        "  avg_loss = total_loss / len(val_dataloader)         # compute the validation loss of the epoch\n",
        "  return avg_loss"
      ]
    },
    {
      "cell_type": "markdown",
      "source": [
        "# Load Previous model if needed"
      ],
      "metadata": {
        "id": "Xh9rHY1z4ThP"
      }
    },
    {
      "cell_type": "code",
      "source": [
        "model.load_state_dict(torch.load('c3_new_model_weights.pt'))"
      ],
      "metadata": {
        "id": "2z5fCBq54YUt"
      },
      "execution_count": null,
      "outputs": []
    },
    {
      "cell_type": "markdown",
      "metadata": {
        "id": "i9Js86f7Pd0T"
      },
      "source": [
        "# Train Model"
      ]
    },
    {
      "cell_type": "code",
      "execution_count": null,
      "metadata": {
        "colab": {
          "base_uri": "https://localhost:8080/"
        },
        "id": "cR5d90j7Phfx",
        "outputId": "0753dd64-5ffa-4bc0-c802-794582b8f82c"
      },
      "outputs": [
        {
          "output_type": "stream",
          "name": "stdout",
          "text": [
            "\n",
            " Epoch 1 / 2\n",
            "  Batch    50  of  2,091.\n",
            "  Batch   100  of  2,091.\n",
            "  Batch   150  of  2,091.\n",
            "  Batch   200  of  2,091.\n",
            "  Batch   250  of  2,091.\n",
            "  Batch   300  of  2,091.\n",
            "  Batch   350  of  2,091.\n",
            "  Batch   400  of  2,091.\n",
            "  Batch   450  of  2,091.\n",
            "  Batch   500  of  2,091.\n",
            "  Batch   550  of  2,091.\n",
            "  Batch   600  of  2,091.\n",
            "  Batch   650  of  2,091.\n",
            "  Batch   700  of  2,091.\n",
            "  Batch   750  of  2,091.\n",
            "  Batch   800  of  2,091.\n",
            "  Batch   850  of  2,091.\n",
            "  Batch   900  of  2,091.\n",
            "  Batch   950  of  2,091.\n",
            "  Batch 1,000  of  2,091.\n",
            "  Batch 1,050  of  2,091.\n",
            "  Batch 1,100  of  2,091.\n",
            "  Batch 1,150  of  2,091.\n",
            "  Batch 1,200  of  2,091.\n",
            "  Batch 1,250  of  2,091.\n",
            "  Batch 1,300  of  2,091.\n",
            "  Batch 1,350  of  2,091.\n",
            "  Batch 1,400  of  2,091.\n",
            "  Batch 1,450  of  2,091.\n",
            "  Batch 1,500  of  2,091.\n",
            "  Batch 1,550  of  2,091.\n",
            "  Batch 1,600  of  2,091.\n",
            "  Batch 1,650  of  2,091.\n",
            "  Batch 1,700  of  2,091.\n",
            "  Batch 1,750  of  2,091.\n",
            "  Batch 1,800  of  2,091.\n",
            "  Batch 1,850  of  2,091.\n",
            "  Batch 1,900  of  2,091.\n",
            "  Batch 1,950  of  2,091.\n",
            "  Batch 2,000  of  2,091.\n",
            "  Batch 2,050  of  2,091.\n",
            "\n",
            "Evaluating...\n",
            "  Batch    50  of    471.\n",
            "  Batch   100  of    471.\n",
            "  Batch   150  of    471.\n",
            "  Batch   200  of    471.\n",
            "  Batch   250  of    471.\n",
            "  Batch   300  of    471.\n",
            "  Batch   350  of    471.\n",
            "  Batch   400  of    471.\n",
            "  Batch   450  of    471.\n",
            "\n",
            "Training Loss: 0.643\n",
            "Validation Loss: 0.629\n"
          ]
        }
      ],
      "source": [
        "# Train and predict\n",
        "best_valid_loss = float('inf')\n",
        "train_losses=[]                   # empty lists to store training and validation loss of each epoch\n",
        "valid_losses=[]\n",
        "\n",
        "for epoch in range(1):     \n",
        "    print('\\n Epoch {:} / {:}'.format(epoch + 1, epochs))     \n",
        "    train_loss = train()                       # train model\n",
        "    valid_loss = evaluate()                    # evaluate model\n",
        "    if valid_loss < best_valid_loss:              # save the best model\n",
        "        best_valid_loss = valid_loss\n",
        "        torch.save(model.state_dict(), 'c4_new_model_weights.pt')\n",
        "    train_losses.append(train_loss)               # append training and validation loss\n",
        "    valid_losses.append(valid_loss)\n",
        "    \n",
        "    print(f'\\nTraining Loss: {train_loss:.3f}')\n",
        "    print(f'Validation Loss: {valid_loss:.3f}')"
      ]
    },
    {
      "cell_type": "code",
      "source": [
        "print(evaluate())"
      ],
      "metadata": {
        "colab": {
          "base_uri": "https://localhost:8080/"
        },
        "id": "22-77hdOPnRR",
        "outputId": "e1881022-c7c2-4307-bccf-edb0cd4e9af4"
      },
      "execution_count": null,
      "outputs": [
        {
          "output_type": "stream",
          "name": "stdout",
          "text": [
            "\n",
            "Evaluating...\n",
            "  Batch    50  of    527.\n",
            "  Batch   100  of    527.\n",
            "  Batch   150  of    527.\n",
            "  Batch   200  of    527.\n",
            "  Batch   250  of    527.\n",
            "  Batch   300  of    527.\n",
            "  Batch   350  of    527.\n",
            "  Batch   400  of    527.\n",
            "  Batch   450  of    527.\n",
            "  Batch   500  of    527.\n",
            "0.6323431921412416\n"
          ]
        }
      ]
    },
    {
      "cell_type": "markdown",
      "metadata": {
        "id": "tYSBd8JQh_qv"
      },
      "source": [
        "# Test"
      ]
    },
    {
      "cell_type": "code",
      "source": [
        "model.load_state_dict(torch.load('c2_new_model_weights.pt'))"
      ],
      "metadata": {
        "colab": {
          "base_uri": "https://localhost:8080/"
        },
        "id": "KnDDAgua5Q_7",
        "outputId": "2d007cfa-bbb5-4ed6-9cd9-8f675c4b0969"
      },
      "execution_count": null,
      "outputs": [
        {
          "output_type": "execute_result",
          "data": {
            "text/plain": [
              "<All keys matched successfully>"
            ]
          },
          "metadata": {},
          "execution_count": 47
        }
      ]
    },
    {
      "cell_type": "code",
      "execution_count": null,
      "metadata": {
        "id": "684ZwopEiH6I",
        "colab": {
          "base_uri": "https://localhost:8080/"
        },
        "outputId": "797945a8-6361-4048-8401-183e4d308deb"
      },
      "outputs": [
        {
          "output_type": "stream",
          "name": "stdout",
          "text": [
            "              precision    recall  f1-score   support\n",
            "\n",
            "           0       0.63      0.68      0.65       839\n",
            "           1       0.65      0.60      0.62       834\n",
            "\n",
            "    accuracy                           0.64      1673\n",
            "   macro avg       0.64      0.64      0.64      1673\n",
            "weighted avg       0.64      0.64      0.64      1673\n",
            "\n"
          ]
        }
      ],
      "source": [
        "from sklearn.metrics import classification_report\n",
        "# test_input_ids=torch.tensor(tokens_test['input_ids'])\n",
        "# test_attention_masks=torch.tensor(tokens_test['attention_mask'])\n",
        "# test_y=torch.tensor(test_labels.tolist())\n",
        "with torch.no_grad():\n",
        "  preds = model(test_input_ids, test_attention_masks)\n",
        "  preds = preds.detach().cpu().numpy()\n",
        "\n",
        "preds = np.argmax(preds, axis = 1)\n",
        "print(classification_report(test_y, preds))"
      ]
    }
  ],
  "metadata": {
    "colab": {
      "collapsed_sections": [
        "3XeWyfTuOW_U",
        "aZ-bEy0VOr6T",
        "BlnvFhwSPVWt"
      ],
      "provenance": []
    },
    "kernelspec": {
      "display_name": "Python 3",
      "name": "python3"
    },
    "language_info": {
      "name": "python"
    }
  },
  "nbformat": 4,
  "nbformat_minor": 0
}