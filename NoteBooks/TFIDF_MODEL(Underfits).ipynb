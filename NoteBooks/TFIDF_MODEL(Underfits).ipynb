{
  "nbformat": 4,
  "nbformat_minor": 0,
  "metadata": {
    "colab": {
      "provenance": []
    },
    "kernelspec": {
      "name": "python3",
      "display_name": "Python 3"
    },
    "language_info": {
      "name": "python"
    },
    "accelerator": "GPU",
    "gpuClass": "standard"
  },
  "cells": [
    {
      "cell_type": "code",
      "execution_count": null,
      "metadata": {
        "colab": {
          "base_uri": "https://localhost:8080/"
        },
        "id": "9rXsz1x9geNo",
        "outputId": "ba7d205a-a629-410c-c726-1c3ab519f55f"
      },
      "outputs": [
        {
          "output_type": "stream",
          "name": "stdout",
          "text": [
            "Mounted at /content/drive\n"
          ]
        }
      ],
      "source": [
        "from google.colab import drive\n",
        "drive.mount('/content/drive')"
      ]
    },
    {
      "cell_type": "code",
      "source": [
        "# !apt-get install p7zip-full\n",
        "# !p7zip -d file_name.7z"
      ],
      "metadata": {
        "id": "NGfCBCw-g3Q6"
      },
      "execution_count": null,
      "outputs": []
    },
    {
      "cell_type": "code",
      "source": [
        "%cd /content/drive/MyDrive/Gp\\ Dataset\n",
        "# !sudo apt-get install p7zip-full\n",
        "# !7z x gp.7z\n",
        "\n",
        "\n"
      ],
      "metadata": {
        "colab": {
          "base_uri": "https://localhost:8080/"
        },
        "id": "X_alywKthUXy",
        "outputId": "111cdb58-6dc4-471e-d064-c8ba4df5dfa2"
      },
      "execution_count": null,
      "outputs": [
        {
          "output_type": "stream",
          "name": "stdout",
          "text": [
            "/content/drive/MyDrive/Gp Dataset\n"
          ]
        }
      ]
    },
    {
      "cell_type": "code",
      "source": [
        "import pandas as pd\n",
        "\n",
        "labeledData=pd.read_csv('labeled_data.csv')\n",
        "#labeledData=labeledData.sample(frac=0.5,random_state=50,ignore_index=True)\n",
        "#unlabeledData=pd.read_csv('unlabeled_data.csv')"
      ],
      "metadata": {
        "id": "DWe-_Cc-it-2"
      },
      "execution_count": null,
      "outputs": []
    },
    {
      "cell_type": "code",
      "source": [
        "labeledData.head()"
      ],
      "metadata": {
        "colab": {
          "base_uri": "https://localhost:8080/",
          "height": 250
        },
        "id": "jTjK-MZxjASz",
        "outputId": "10cc640f-98e7-4fd8-fbaf-ea59e0deab74"
      },
      "execution_count": null,
      "outputs": [
        {
          "output_type": "execute_result",
          "data": {
            "text/plain": [
              "                                               title  \\\n",
              "0  المنتخب الوطني المغربي لأقل من 20 سنة يخوض تجم...   \n",
              "1  وزير النقل اعمارة:السرعة عامل مسبب لحوادث السي...   \n",
              "2    ميسي يؤكد أن الفوز بكأس اسبانيا كان \"نقطة تحول\"   \n",
              "3  دبلوماسي مغربي سابق بإسبانيا لـ2M.ma: خطأ مدري...   \n",
              "4  شركتان، فرنسية وبريطانية تعلنان عن نتائج إيجاب...   \n",
              "\n",
              "                                                text      publishing_date  \\\n",
              "0  يخوض المنتخب الوطني المغربي لكرة القدم لأقل من...  2021-05-23T00:00:00   \n",
              "1  ترأس عبد القادر اعمارة، وزير التجهيز و النقل و...  2021-05-22T00:00:00   \n",
              "2  أكد النجم الارجنتيني ليونيل ميسي أن فوز فريقه ...  2021-05-22T00:00:00   \n",
              "3  أكّد الدبلوماسي المغربي السابق بإسبانيا، عبد ا...  2021-05-22T00:00:00   \n",
              "4  أعلنت شركتا سانوفي الفرنسية العملاقة في تصنيع ...  2021-05-17T00:00:00   \n",
              "\n",
              "  source_num     label  \n",
              "0   source_1  credible  \n",
              "1   source_1  credible  \n",
              "2   source_1  credible  \n",
              "3   source_1  credible  \n",
              "4   source_1  credible  "
            ],
            "text/html": [
              "\n",
              "  <div id=\"df-b21b93ca-24a9-4efc-a426-0db3f1f43d10\">\n",
              "    <div class=\"colab-df-container\">\n",
              "      <div>\n",
              "<style scoped>\n",
              "    .dataframe tbody tr th:only-of-type {\n",
              "        vertical-align: middle;\n",
              "    }\n",
              "\n",
              "    .dataframe tbody tr th {\n",
              "        vertical-align: top;\n",
              "    }\n",
              "\n",
              "    .dataframe thead th {\n",
              "        text-align: right;\n",
              "    }\n",
              "</style>\n",
              "<table border=\"1\" class=\"dataframe\">\n",
              "  <thead>\n",
              "    <tr style=\"text-align: right;\">\n",
              "      <th></th>\n",
              "      <th>title</th>\n",
              "      <th>text</th>\n",
              "      <th>publishing_date</th>\n",
              "      <th>source_num</th>\n",
              "      <th>label</th>\n",
              "    </tr>\n",
              "  </thead>\n",
              "  <tbody>\n",
              "    <tr>\n",
              "      <th>0</th>\n",
              "      <td>المنتخب الوطني المغربي لأقل من 20 سنة يخوض تجم...</td>\n",
              "      <td>يخوض المنتخب الوطني المغربي لكرة القدم لأقل من...</td>\n",
              "      <td>2021-05-23T00:00:00</td>\n",
              "      <td>source_1</td>\n",
              "      <td>credible</td>\n",
              "    </tr>\n",
              "    <tr>\n",
              "      <th>1</th>\n",
              "      <td>وزير النقل اعمارة:السرعة عامل مسبب لحوادث السي...</td>\n",
              "      <td>ترأس عبد القادر اعمارة، وزير التجهيز و النقل و...</td>\n",
              "      <td>2021-05-22T00:00:00</td>\n",
              "      <td>source_1</td>\n",
              "      <td>credible</td>\n",
              "    </tr>\n",
              "    <tr>\n",
              "      <th>2</th>\n",
              "      <td>ميسي يؤكد أن الفوز بكأس اسبانيا كان \"نقطة تحول\"</td>\n",
              "      <td>أكد النجم الارجنتيني ليونيل ميسي أن فوز فريقه ...</td>\n",
              "      <td>2021-05-22T00:00:00</td>\n",
              "      <td>source_1</td>\n",
              "      <td>credible</td>\n",
              "    </tr>\n",
              "    <tr>\n",
              "      <th>3</th>\n",
              "      <td>دبلوماسي مغربي سابق بإسبانيا لـ2M.ma: خطأ مدري...</td>\n",
              "      <td>أكّد الدبلوماسي المغربي السابق بإسبانيا، عبد ا...</td>\n",
              "      <td>2021-05-22T00:00:00</td>\n",
              "      <td>source_1</td>\n",
              "      <td>credible</td>\n",
              "    </tr>\n",
              "    <tr>\n",
              "      <th>4</th>\n",
              "      <td>شركتان، فرنسية وبريطانية تعلنان عن نتائج إيجاب...</td>\n",
              "      <td>أعلنت شركتا سانوفي الفرنسية العملاقة في تصنيع ...</td>\n",
              "      <td>2021-05-17T00:00:00</td>\n",
              "      <td>source_1</td>\n",
              "      <td>credible</td>\n",
              "    </tr>\n",
              "  </tbody>\n",
              "</table>\n",
              "</div>\n",
              "      <button class=\"colab-df-convert\" onclick=\"convertToInteractive('df-b21b93ca-24a9-4efc-a426-0db3f1f43d10')\"\n",
              "              title=\"Convert this dataframe to an interactive table.\"\n",
              "              style=\"display:none;\">\n",
              "        \n",
              "  <svg xmlns=\"http://www.w3.org/2000/svg\" height=\"24px\"viewBox=\"0 0 24 24\"\n",
              "       width=\"24px\">\n",
              "    <path d=\"M0 0h24v24H0V0z\" fill=\"none\"/>\n",
              "    <path d=\"M18.56 5.44l.94 2.06.94-2.06 2.06-.94-2.06-.94-.94-2.06-.94 2.06-2.06.94zm-11 1L8.5 8.5l.94-2.06 2.06-.94-2.06-.94L8.5 2.5l-.94 2.06-2.06.94zm10 10l.94 2.06.94-2.06 2.06-.94-2.06-.94-.94-2.06-.94 2.06-2.06.94z\"/><path d=\"M17.41 7.96l-1.37-1.37c-.4-.4-.92-.59-1.43-.59-.52 0-1.04.2-1.43.59L10.3 9.45l-7.72 7.72c-.78.78-.78 2.05 0 2.83L4 21.41c.39.39.9.59 1.41.59.51 0 1.02-.2 1.41-.59l7.78-7.78 2.81-2.81c.8-.78.8-2.07 0-2.86zM5.41 20L4 18.59l7.72-7.72 1.47 1.35L5.41 20z\"/>\n",
              "  </svg>\n",
              "      </button>\n",
              "      \n",
              "  <style>\n",
              "    .colab-df-container {\n",
              "      display:flex;\n",
              "      flex-wrap:wrap;\n",
              "      gap: 12px;\n",
              "    }\n",
              "\n",
              "    .colab-df-convert {\n",
              "      background-color: #E8F0FE;\n",
              "      border: none;\n",
              "      border-radius: 50%;\n",
              "      cursor: pointer;\n",
              "      display: none;\n",
              "      fill: #1967D2;\n",
              "      height: 32px;\n",
              "      padding: 0 0 0 0;\n",
              "      width: 32px;\n",
              "    }\n",
              "\n",
              "    .colab-df-convert:hover {\n",
              "      background-color: #E2EBFA;\n",
              "      box-shadow: 0px 1px 2px rgba(60, 64, 67, 0.3), 0px 1px 3px 1px rgba(60, 64, 67, 0.15);\n",
              "      fill: #174EA6;\n",
              "    }\n",
              "\n",
              "    [theme=dark] .colab-df-convert {\n",
              "      background-color: #3B4455;\n",
              "      fill: #D2E3FC;\n",
              "    }\n",
              "\n",
              "    [theme=dark] .colab-df-convert:hover {\n",
              "      background-color: #434B5C;\n",
              "      box-shadow: 0px 1px 3px 1px rgba(0, 0, 0, 0.15);\n",
              "      filter: drop-shadow(0px 1px 2px rgba(0, 0, 0, 0.3));\n",
              "      fill: #FFFFFF;\n",
              "    }\n",
              "  </style>\n",
              "\n",
              "      <script>\n",
              "        const buttonEl =\n",
              "          document.querySelector('#df-b21b93ca-24a9-4efc-a426-0db3f1f43d10 button.colab-df-convert');\n",
              "        buttonEl.style.display =\n",
              "          google.colab.kernel.accessAllowed ? 'block' : 'none';\n",
              "\n",
              "        async function convertToInteractive(key) {\n",
              "          const element = document.querySelector('#df-b21b93ca-24a9-4efc-a426-0db3f1f43d10');\n",
              "          const dataTable =\n",
              "            await google.colab.kernel.invokeFunction('convertToInteractive',\n",
              "                                                     [key], {});\n",
              "          if (!dataTable) return;\n",
              "\n",
              "          const docLinkHtml = 'Like what you see? Visit the ' +\n",
              "            '<a target=\"_blank\" href=https://colab.research.google.com/notebooks/data_table.ipynb>data table notebook</a>'\n",
              "            + ' to learn more about interactive tables.';\n",
              "          element.innerHTML = '';\n",
              "          dataTable['output_type'] = 'display_data';\n",
              "          await google.colab.output.renderOutput(dataTable, element);\n",
              "          const docLink = document.createElement('div');\n",
              "          docLink.innerHTML = docLinkHtml;\n",
              "          element.appendChild(docLink);\n",
              "        }\n",
              "      </script>\n",
              "    </div>\n",
              "  </div>\n",
              "  "
            ]
          },
          "metadata": {},
          "execution_count": 5
        }
      ]
    },
    {
      "cell_type": "code",
      "source": [
        "# unlabeledData.head()"
      ],
      "metadata": {
        "id": "fDS8VKcEjG37"
      },
      "execution_count": null,
      "outputs": []
    },
    {
      "cell_type": "code",
      "source": [
        "import nltk\n",
        "from nltk.corpus import stopwords\n",
        "import unicodedata as ud\n",
        "from nltk.stem.isri import ISRIStemmer\n",
        "nltk.download('stopwords')\n",
        "st = ISRIStemmer()\n",
        "stopwords_list=stopwords.words('arabic')\n",
        "\n",
        "def preprocess_text(text):\n",
        "    t = ''.join(c for c in text if not ud.category(c).startswith('P'))\n",
        "    textwords = nltk.word_tokenize(t)\n",
        "    filteredsentences = []\n",
        "    # print(textwords)\n",
        "    for w in textwords:\n",
        "        if w not in stopwords_list:\n",
        "            filteredsentences.append(w)\n",
        "    stem = []\n",
        "    # print(filteredsentences)\n",
        "    for l in filteredsentences:\n",
        "        stem.append(st.stem(l))\n",
        "    listToStr = ' '.join([str(elem) for elem in stem])\n",
        "    return listToStr"
      ],
      "metadata": {
        "colab": {
          "base_uri": "https://localhost:8080/"
        },
        "id": "2zaNC4XQjsGj",
        "outputId": "3d56671b-1875-4368-ee8b-1c5c492af108"
      },
      "execution_count": null,
      "outputs": [
        {
          "output_type": "stream",
          "name": "stderr",
          "text": [
            "[nltk_data] Downloading package stopwords to /root/nltk_data...\n",
            "[nltk_data]   Unzipping corpora/stopwords.zip.\n"
          ]
        }
      ]
    },
    {
      "cell_type": "code",
      "source": [
        "from tqdm import tqdm\n",
        "\n",
        "nltk.download('punkt')\n",
        "labeledData['label']=labeledData['label'].replace(['not credible','credible'],[0,1])\n",
        "#print(samples['label'])\n",
        "y=labeledData['label']\n",
        "print(len(labeledData))\n",
        "num=0\n",
        "#print(samples)\n",
        "for i in tqdm(range(len(labeledData))):\n",
        "    #print(labeledData.loc[i,'text'])\n",
        "    text = labeledData.loc[i,'title']\n",
        "    #text=labeledData.loc[i,'text']\n",
        "    published_date = labeledData.loc[i,'publishing_date']\n",
        "    listToStr=preprocess_text(text)\n",
        "    #print(len(listToStr))\n",
        "    num+=len(listToStr)\n",
        "    #print(stem)\n",
        "    #print(listToStr)\n",
        "    labeledData.loc[i,'preprocessed_text']=listToStr\n",
        "\n",
        "    #list_string.append(listToStr)\n",
        "    #labeledData[i,'preprocessed_str']=listToStr\n",
        "    #print(stem)\n",
        "    #print(len(list_string))\n",
        "    #exit()"
      ],
      "metadata": {
        "colab": {
          "base_uri": "https://localhost:8080/"
        },
        "id": "vTRozH-ejL4d",
        "outputId": "dccebf9d-6a69-4042-e3c9-e38686e902d1"
      },
      "execution_count": null,
      "outputs": [
        {
          "output_type": "stream",
          "name": "stderr",
          "text": [
            "[nltk_data] Downloading package punkt to /root/nltk_data...\n",
            "[nltk_data]   Unzipping tokenizers/punkt.zip.\n"
          ]
        },
        {
          "output_type": "stream",
          "name": "stdout",
          "text": [
            "374543\n"
          ]
        },
        {
          "output_type": "stream",
          "name": "stderr",
          "text": [
            "100%|██████████| 374543/374543 [03:14<00:00, 1926.20it/s]\n"
          ]
        }
      ]
    },
    {
      "cell_type": "code",
      "source": [
        "from sklearn.feature_extraction.text import TfidfVectorizer\n",
        "from sklearn.decomposition import TruncatedSVD\n",
        "\n",
        "def applytfidf(textdoc):\n",
        "    vectorizer = TfidfVectorizer( max_df=0.8,min_df=5000)\n",
        "    vectorizer.fit(textdoc)\n",
        "    idf = vectorizer.idf_\n",
        "    # print(dict(zip(vectorizer.get_feature_names_out(), idf)))\n",
        "    tfidf_matrix = vectorizer.transform(textdoc)\n",
        "    # n_components = 1000\n",
        "    # svd = TruncatedSVD(n_components=n_components)\n",
        "    # reduced_matrix = svd.fit_transform(tfidf_matrix)\n",
        "    return tfidf_matrix#,reduced_matrix"
      ],
      "metadata": {
        "id": "ArO63bLxwCYF"
      },
      "execution_count": null,
      "outputs": []
    },
    {
      "cell_type": "code",
      "source": [
        "tfidf_matrix=0\n",
        "print(tfidf_matrix)\n",
        "avg=num/len(labeledData)\n",
        "print(\"average=\"+str(avg))\n",
        "textdoc=labeledData['preprocessed_text']\n",
        "tfidf_matrix=applytfidf(textdoc)\n",
        "#,reduced_matrix\n",
        "#print(reduced_matrix.shape)\n",
        "print(tfidf_matrix.get_shape())\n",
        "\n",
        "\n",
        "\n",
        "num_features=tfidf_matrix.get_shape()[1]\n",
        "#num_features=reduced_matrix.shape[1]"
      ],
      "metadata": {
        "colab": {
          "base_uri": "https://localhost:8080/"
        },
        "id": "62IbVvqQwJ9W",
        "outputId": "c5808887-c7e9-481c-e67a-e0843b666a4b"
      },
      "execution_count": null,
      "outputs": [
        {
          "output_type": "stream",
          "name": "stdout",
          "text": [
            "0\n",
            "average=35.36197445954136\n",
            "(374543, 107)\n"
          ]
        }
      ]
    },
    {
      "cell_type": "code",
      "source": [
        "from keras.models import Sequential\n",
        "from keras.layers import Embedding,LSTM,Dense,SpatialDropout1D,Dropout,Conv1D,MaxPooling1D\n",
        "\n",
        "\n",
        "\n",
        "def create_model1(numoffeatures):\n",
        "    model=Sequential()\n",
        "    model.add(Embedding(input_dim=numoffeatures,output_dim=50))\n",
        "    model.add(LSTM(units=64))\n",
        "    model.add(Dense(1,activation='sigmoid'))\n",
        "    model.summary()\n",
        "    model.compile(optimizer='adam',loss='binary_crossentropy',metrics=['accuracy'])\n",
        "    return model\n",
        "\n",
        "def create_model2(numoffeatures):\n",
        "    model_lstm = Sequential()\n",
        "    model_lstm.add(Embedding(input_dim=numoffeatures, output_dim=256,))\n",
        "    model_lstm.add(SpatialDropout1D(0.3))\n",
        "    model_lstm.add(LSTM(256, dropout=0.3, recurrent_dropout=0.3))\n",
        "    model_lstm.add(Dense(256, activation='relu'))\n",
        "    model_lstm.add(Dropout(0.3))\n",
        "    model_lstm.add(Dense(1, activation='sigmoid'))\n",
        "    model_lstm.compile(\n",
        "        loss='binary_crossentropy',\n",
        "        optimizer='Adam',\n",
        "        metrics=['accuracy']\n",
        "    )\n",
        "    model_lstm.summary()\n",
        "    return model_lstm\n",
        "\n",
        "def create_model3(numoffeatures):\n",
        "    model_lstm=Sequential()\n",
        "    model_lstm.add(Embedding(numoffeatures,100))\n",
        "    model_lstm.add(Dropout(0.2))\n",
        "    model_lstm.add(Conv1D(64, 5, activation='relu'))\n",
        "    model_lstm.add(MaxPooling1D(pool_size=4))\n",
        "    model_lstm.add(LSTM(20, return_sequences=True))\n",
        "    model_lstm.add(LSTM(20))\n",
        "    model_lstm.add(Dropout(0.2))\n",
        "    model_lstm.add(Dense(512))\n",
        "    model_lstm.add(Dropout(0.3))\n",
        "    model_lstm.add(Dense(256))\n",
        "    model_lstm.add(Dense(1, activation='sigmoid'))\n",
        "    model_lstm.compile(loss='binary_crossentropy',optimizer='adam',metrics=['accuracy'])\n",
        "    model_lstm.summary()\n",
        "    return model_lstm\n",
        "\n"
      ],
      "metadata": {
        "id": "KUoFwFFdOlAA"
      },
      "execution_count": null,
      "outputs": []
    },
    {
      "cell_type": "code",
      "source": [
        "import numpy as np\n",
        "from sklearn.model_selection import train_test_split\n",
        "num_features=tfidf_matrix.shape[1]\n",
        "\n",
        "\n",
        "\n",
        "\n",
        "#model=training_model.create_model1(num_features)\n",
        "model=create_model3(num_features)\n",
        "tfidf_int=tfidf_matrix.toarray().astype(np.float32)\n",
        "#reduced_matrix_int=reduced_matrix.toarray().astype('int32')\n",
        "#print(len(tfidf_int))\n",
        "#model.fit(tfidf_int,ysamples,epochs=5,verbose=1)\n",
        "X_train,X_test,Y_train,Y_test=train_test_split(tfidf_int,y,test_size=0.2,random_state=20)\n",
        "\n",
        "\n",
        "model.fit(X_train,Y_train,validation_data=(X_test,Y_test),epochs=5,verbose=1,batch_size=128)"
      ],
      "metadata": {
        "colab": {
          "base_uri": "https://localhost:8080/"
        },
        "id": "t4myFfjBOopv",
        "outputId": "fc67a5b0-96c5-43be-d6e0-21e99e40ccee"
      },
      "execution_count": null,
      "outputs": [
        {
          "output_type": "stream",
          "name": "stdout",
          "text": [
            "Model: \"sequential_5\"\n",
            "_________________________________________________________________\n",
            " Layer (type)                Output Shape              Param #   \n",
            "=================================================================\n",
            " embedding_5 (Embedding)     (None, None, 100)         10700     \n",
            "                                                                 \n",
            " dropout_9 (Dropout)         (None, None, 100)         0         \n",
            "                                                                 \n",
            " conv1d_2 (Conv1D)           (None, None, 64)          32064     \n",
            "                                                                 \n",
            " max_pooling1d_2 (MaxPooling  (None, None, 64)         0         \n",
            " 1D)                                                             \n",
            "                                                                 \n",
            " lstm_7 (LSTM)               (None, None, 20)          6800      \n",
            "                                                                 \n",
            " lstm_8 (LSTM)               (None, 20)                3280      \n",
            "                                                                 \n",
            " dropout_10 (Dropout)        (None, 20)                0         \n",
            "                                                                 \n",
            " dense_12 (Dense)            (None, 512)               10752     \n",
            "                                                                 \n",
            " dropout_11 (Dropout)        (None, 512)               0         \n",
            "                                                                 \n",
            " dense_13 (Dense)            (None, 256)               131328    \n",
            "                                                                 \n",
            " dense_14 (Dense)            (None, 1)                 257       \n",
            "                                                                 \n",
            "=================================================================\n",
            "Total params: 195,181\n",
            "Trainable params: 195,181\n",
            "Non-trainable params: 0\n",
            "_________________________________________________________________\n",
            "Epoch 1/5\n",
            "2341/2341 [==============================] - 31s 11ms/step - loss: 0.6879 - accuracy: 0.5527 - val_loss: 0.6881 - val_accuracy: 0.5561\n",
            "Epoch 2/5\n",
            "2341/2341 [==============================] - 25s 10ms/step - loss: 0.6877 - accuracy: 0.5529 - val_loss: 0.6868 - val_accuracy: 0.5561\n",
            "Epoch 3/5\n",
            "2341/2341 [==============================] - 26s 11ms/step - loss: 0.6876 - accuracy: 0.5529 - val_loss: 0.6869 - val_accuracy: 0.5561\n",
            "Epoch 4/5\n",
            "2341/2341 [==============================] - 25s 11ms/step - loss: 0.6877 - accuracy: 0.5529 - val_loss: 0.6868 - val_accuracy: 0.5561\n",
            "Epoch 5/5\n",
            "2341/2341 [==============================] - 25s 11ms/step - loss: 0.6876 - accuracy: 0.5529 - val_loss: 0.6869 - val_accuracy: 0.5561\n"
          ]
        },
        {
          "output_type": "execute_result",
          "data": {
            "text/plain": [
              "<keras.callbacks.History at 0x7f9b01b35430>"
            ]
          },
          "metadata": {},
          "execution_count": 18
        }
      ]
    }
  ]
}